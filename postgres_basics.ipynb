{
 "cells": [
  {
   "cell_type": "markdown",
   "metadata": {},
   "source": [
    "### Start & Stop Postgres Service"
   ]
  },
  {
   "cell_type": "markdown",
   "metadata": {},
   "source": [
    "brew services start postgresql<br>\n",
    "brew services stop postgresql"
   ]
  },
  {
   "cell_type": "markdown",
   "metadata": {},
   "source": [
    "### Enter Postgres  "
   ]
  },
  {
   "cell_type": "markdown",
   "metadata": {},
   "source": [
    "psql postgres"
   ]
  },
  {
   "cell_type": "markdown",
   "metadata": {},
   "source": [
    "### Enter Postgres and connect to specific Database as specific User"
   ]
  },
  {
   "cell_type": "markdown",
   "metadata": {},
   "source": [
    "1. \n",
    "psql postgres://<user_name>@localhost:5432/<database_name>"
   ]
  },
  {
   "cell_type": "markdown",
   "metadata": {},
   "source": [
    "2.\n",
    "psql -h localhost -d <database_name> -W -U <user_name> <br>\n",
    "<br>\n",
    "-h = host<br>\n",
    "-d = baza danych<br>\n",
    "-W = z hasłem<br>\n",
    "-U = User<br>\n",
    "-O = Owner<br>"
   ]
  },
  {
   "cell_type": "markdown",
   "metadata": {},
   "source": [
    "### Create User"
   ]
  },
  {
   "cell_type": "markdown",
   "metadata": {},
   "source": [
    "1. psql <br><br>\n",
    "\n",
    "createuser patrick <br>\n",
    "createuser patrick --createdb -> gives this user permissions to manage databases"
   ]
  },
  {
   "cell_type": "markdown",
   "metadata": {},
   "source": [
    "2. SQL <br><br>\n",
    "\n",
    "CREATE ROLE <user_name> WITH LOGIN PASSWORD 'quoted password'; -> creates user with password <br>\n",
    "ALTER ROLE <user_name> CREATEDB; - gives this user permissions to manage databases"
   ]
  },
  {
   "cell_type": "markdown",
   "metadata": {},
   "source": [
    "### Create Password for the User"
   ]
  },
  {
   "cell_type": "markdown",
   "metadata": {},
   "source": [
    "postgres=# \\password <user_name>"
   ]
  },
  {
   "cell_type": "markdown",
   "metadata": {},
   "source": [
    "### Create Database"
   ]
  },
  {
   "cell_type": "markdown",
   "metadata": {},
   "source": [
    "1. SQL <br><br>\n",
    "Log in to Postgres as an user -> psql postgres -U <user_name> <br><br>\n",
    "postgres=> CREATE DATABASE <db_name>; <br>\n",
    "postgres=> GRANT ALL PRIVILEGES ON DATABASE <db_name> TO <user_name>;"
   ]
  },
  {
   "cell_type": "markdown",
   "metadata": {},
   "source": [
    "2. psql <br><br>\n",
    "createdb <db_name> -U <user_name>"
   ]
  },
  {
   "cell_type": "markdown",
   "metadata": {},
   "source": [
    "### Shortcuts"
   ]
  },
  {
   "cell_type": "markdown",
   "metadata": {},
   "source": [
    "Quit server: \\q\n",
    "<br><br>\n",
    "List of users: \\du\n",
    "<br><br>\n",
    "Enter database: \\c <db_name>\n",
    "<br><br>\n",
    "List of all db: \\l or \\l+ (more info)\n",
    "<br><br>\n",
    "List the tables in db: \\dt\n",
    "<br><br>\n",
    "List all users: \\du"
   ]
  },
  {
   "cell_type": "markdown",
   "metadata": {},
   "source": []
  }
 ],
 "metadata": {
  "language_info": {
   "name": "python"
  }
 },
 "nbformat": 4,
 "nbformat_minor": 2
}
