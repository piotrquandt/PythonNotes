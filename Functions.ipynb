{
 "cells": [
  {
   "cell_type": "markdown",
   "metadata": {},
   "source": [
    "# Functions"
   ]
  },
  {
   "cell_type": "markdown",
   "metadata": {},
   "source": [
    "def name_of_function():<br>\n",
    "    return whatever_we_want_to_send_out"
   ]
  },
  {
   "cell_type": "markdown",
   "metadata": {},
   "source": [
    "### Without parameters"
   ]
  },
  {
   "cell_type": "code",
   "execution_count": 1,
   "metadata": {},
   "outputs": [
    {
     "data": {
      "text/plain": [
       "'Hi!'"
      ]
     },
     "execution_count": 1,
     "metadata": {},
     "output_type": "execute_result"
    }
   ],
   "source": [
    "def say_hi():\n",
    "    return \"Hi!\"\n",
    "\n",
    "say_hi()"
   ]
  },
  {
   "cell_type": "markdown",
   "metadata": {},
   "source": [
    "### With parameters"
   ]
  },
  {
   "cell_type": "markdown",
   "metadata": {},
   "source": [
    "def name_of_function(single_paramater): <br>\n",
    "    return whatever_we_want_to_send_out\n",
    "\n",
    "name_of_function(argument)"
   ]
  },
  {
   "cell_type": "code",
   "execution_count": 3,
   "metadata": {},
   "outputs": [
    {
     "data": {
      "text/plain": [
       "4"
      ]
     },
     "execution_count": 3,
     "metadata": {},
     "output_type": "execute_result"
    }
   ],
   "source": [
    "def squere(num):\n",
    "    return num ** 2\n",
    "\n",
    "squere(2)"
   ]
  },
  {
   "cell_type": "markdown",
   "metadata": {},
   "source": [
    "def name_of_function(multi_para_1, multi_para_2)<br>\n",
    "    return whatever_we_want_to_send_out\n",
    "\n",
    "name_of_function(argument_1, argument_2)    "
   ]
  },
  {
   "cell_type": "code",
   "execution_count": 8,
   "metadata": {},
   "outputs": [
    {
     "data": {
      "text/plain": [
       "'Hi, my name is Piotr Steele'"
      ]
     },
     "execution_count": 8,
     "metadata": {},
     "output_type": "execute_result"
    }
   ],
   "source": [
    "def  nameing_excercise(first_name, last_name):\n",
    "    return (f\"Hi, my name is {first_name} {last_name}\")\n",
    "\n",
    "nameing_excercise(\"Piotr\", \"Steele\")"
   ]
  },
  {
   "cell_type": "markdown",
   "metadata": {},
   "source": [
    "### Default parameters"
   ]
  },
  {
   "cell_type": "markdown",
   "metadata": {},
   "source": [
    "def name_of_function(parameter=value): -> if value is provided in the argument, it will overwrite the parameter<br>\n",
    "    return whatever_we_want_to_send_out\n",
    "\n",
    "name_of_function(argument)"
   ]
  },
  {
   "cell_type": "code",
   "execution_count": 1,
   "metadata": {},
   "outputs": [
    {
     "data": {
      "text/plain": [
       "100"
      ]
     },
     "execution_count": 1,
     "metadata": {},
     "output_type": "execute_result"
    }
   ],
   "source": [
    "def some_function(para=10):\n",
    "    return para * para\n",
    "\n",
    "some_function()"
   ]
  },
  {
   "cell_type": "code",
   "execution_count": 2,
   "metadata": {},
   "outputs": [
    {
     "data": {
      "text/plain": [
       "4"
      ]
     },
     "execution_count": 2,
     "metadata": {},
     "output_type": "execute_result"
    }
   ],
   "source": [
    "def some_function(para=10):\n",
    "    return para * para\n",
    "\n",
    "some_function(2)"
   ]
  },
  {
   "cell_type": "markdown",
   "metadata": {},
   "source": [
    "### Keywords parameters"
   ]
  },
  {
   "cell_type": "markdown",
   "metadata": {},
   "source": [
    "def some_function(parameter): <br>\n",
    "    return something\n",
    "\n",
    "some_function(parameter=\"hello\") -> the value of the parameter is provided in the argument"
   ]
  },
  {
   "cell_type": "code",
   "execution_count": 7,
   "metadata": {},
   "outputs": [
    {
     "data": {
      "text/plain": [
       "4"
      ]
     },
     "execution_count": 7,
     "metadata": {},
     "output_type": "execute_result"
    }
   ],
   "source": [
    "def new_function(num, power=2):\n",
    "    return num ** power\n",
    "\n",
    "new_function(2)"
   ]
  },
  {
   "cell_type": "code",
   "execution_count": 6,
   "metadata": {},
   "outputs": [
    {
     "data": {
      "text/plain": [
       "16"
      ]
     },
     "execution_count": 6,
     "metadata": {},
     "output_type": "execute_result"
    }
   ],
   "source": [
    "def new_function(num, power=2):\n",
    "    return num ** power\n",
    "\n",
    "new_function(2, power=4)"
   ]
  },
  {
   "cell_type": "markdown",
   "metadata": {},
   "source": [
    "### Scope"
   ]
  },
  {
   "cell_type": "markdown",
   "metadata": {},
   "source": [
    "scope -> where the variables can be accessed"
   ]
  },
  {
   "cell_type": "code",
   "execution_count": 9,
   "metadata": {},
   "outputs": [
    {
     "data": {
      "text/plain": [
       "'Hello Colt'"
      ]
     },
     "execution_count": 9,
     "metadata": {},
     "output_type": "execute_result"
    }
   ],
   "source": [
    "instructor = \"Colt\" #the parameter/variable is SCOPED outside the function; no manipulation -> look 'Global'\n",
    "\n",
    "def say_hello():\n",
    "    return f\"Hello {instructor}\"\n",
    "\n",
    "say_hello()"
   ]
  },
  {
   "cell_type": "code",
   "execution_count": 10,
   "metadata": {},
   "outputs": [
    {
     "data": {
      "text/plain": [
       "'Hello Colt'"
      ]
     },
     "execution_count": 10,
     "metadata": {},
     "output_type": "execute_result"
    }
   ],
   "source": [
    "def say_hello():\n",
    "    instructor = \"Colt\" #the parameter/variable is SCOPED inside the function\n",
    "    return f\"Hello {instructor}\"\n",
    "\n",
    "say_hello()"
   ]
  },
  {
   "cell_type": "markdown",
   "metadata": {},
   "source": [
    "### Global"
   ]
  },
  {
   "cell_type": "code",
   "execution_count": 11,
   "metadata": {},
   "outputs": [
    {
     "data": {
      "text/plain": [
       "1"
      ]
     },
     "execution_count": 11,
     "metadata": {},
     "output_type": "execute_result"
    }
   ],
   "source": [
    "total = 0\n",
    "\n",
    "def some_new_function():\n",
    "    global total #if variable total is going to be manipulated inside the function, it has to be called 'global'\n",
    "    total += 1 #here is where the manipulation occur\n",
    "    return total\n",
    "\n",
    "some_new_function()"
   ]
  },
  {
   "cell_type": "markdown",
   "metadata": {},
   "source": [
    "### Documenting Functions"
   ]
  },
  {
   "cell_type": "markdown",
   "metadata": {},
   "source": [
    "If there is a need to explain what the function do exactly, the explanation can be iside tripe quotes: \"\"\"explenation\"\"\". <br>Then to call the explanation: func_name.__doc__"
   ]
  },
  {
   "cell_type": "code",
   "execution_count": 16,
   "metadata": {},
   "outputs": [
    {
     "data": {
      "text/plain": [
       "'This function is an example of inserting the explenation'"
      ]
     },
     "execution_count": 16,
     "metadata": {},
     "output_type": "execute_result"
    }
   ],
   "source": [
    "def another_new_function():\n",
    "    \"\"\"This function is an example of inserting the explenation\"\"\"\n",
    "    return \"Hello!\"\n",
    "\n",
    "another_new_function.__doc__"
   ]
  },
  {
   "cell_type": "markdown",
   "metadata": {},
   "source": [
    "### *args"
   ]
  },
  {
   "cell_type": "markdown",
   "metadata": {},
   "source": [
    "- it's a prameter that gathers remaining argumens as a tuple"
   ]
  },
  {
   "cell_type": "code",
   "execution_count": 1,
   "metadata": {},
   "outputs": [
    {
     "name": "stdout",
     "output_type": "stream",
     "text": [
      "(1, 2, 3, 4, 5, 6)\n"
     ]
    }
   ],
   "source": [
    "def args_func(*args):\n",
    "    print(args)\n",
    "\n",
    "args_func(1,2,3,4,5,6)  "
   ]
  },
  {
   "cell_type": "code",
   "execution_count": 7,
   "metadata": {},
   "outputs": [
    {
     "data": {
      "text/plain": [
       "'Who Are You?'"
      ]
     },
     "execution_count": 7,
     "metadata": {},
     "output_type": "execute_result"
    }
   ],
   "source": [
    "def info_test(*args):\n",
    "    if \"Quandt\" in args and \"Peter\" in args:\n",
    "        return \"Yo!\"\n",
    "    return \"Who Are You?\"\n",
    "\n",
    "info_test(1, \"Yo!\", \"Peter\", True, \"Steele\", [1, 5, 4])"
   ]
  },
  {
   "cell_type": "markdown",
   "metadata": {},
   "source": [
    "### **kwargs"
   ]
  },
  {
   "cell_type": "markdown",
   "metadata": {},
   "source": [
    "- it's a prameter that gathers remaining argumens as a dictionary <br>\n",
    "kw stands for keyword"
   ]
  },
  {
   "cell_type": "code",
   "execution_count": 6,
   "metadata": {},
   "outputs": [
    {
     "name": "stdout",
     "output_type": "stream",
     "text": [
      "Peter favourite colour is Blue\n",
      "Anna favourite colour is Red\n",
      "Karla favourite colour is Rose\n"
     ]
    }
   ],
   "source": [
    "def kwargs_func(**kwargs):\n",
    "    for name,colour in kwargs.items():\n",
    "        print(f\"{name} favourite colour is {colour}\")\n",
    "    \n",
    "kwargs_func(Peter=\"Blue\", Anna=\"Red\", Karla=\"Rose\")"
   ]
  },
  {
   "cell_type": "code",
   "execution_count": 8,
   "metadata": {},
   "outputs": [
    {
     "name": "stdout",
     "output_type": "stream",
     "text": [
      "You get a special greeting David!\n"
     ]
    }
   ],
   "source": [
    "def special_greeting(**kwargs):\n",
    "    if \"David\" in kwargs and kwargs[\"David\"] == \"special\":\n",
    "        return \"You get a special greeting David!\"\n",
    "    elif \"David\" in kwargs:\n",
    "        return f\"{kwargs['David']} David!\"\n",
    "\n",
    "    return \"Not sure who this is...\"\n",
    "\n",
    "# print(special_greeting(David='Hello')) # Hello David!\n",
    "# print(special_greeting(Bob='hello')) # Not sure who this is...\n",
    "# print(special_greeting(David='special')) # You get a special greeting David!\n",
    "\n",
    "print(special_greeting(Heather=\"hello\", David=\"special\"))"
   ]
  },
  {
   "cell_type": "markdown",
   "metadata": {},
   "source": [
    "### Parameters Order"
   ]
  },
  {
   "cell_type": "markdown",
   "metadata": {},
   "source": [
    "- parameters\n",
    "- *args\n",
    "- default parameters\n",
    "- **kwargs\n",
    "\n",
    "def some_function(1, 2, *args, para1=1, para2=2, **args)"
   ]
  },
  {
   "cell_type": "markdown",
   "metadata": {},
   "source": [
    "### Tuple unpacking"
   ]
  },
  {
   "cell_type": "markdown",
   "metadata": {},
   "source": [
    "some_list = [1, 2, 3, 4, 5, 6] -> this list has to be unpacked and inserted as an individual argument"
   ]
  },
  {
   "cell_type": "code",
   "execution_count": 16,
   "metadata": {},
   "outputs": [
    {
     "name": "stdout",
     "output_type": "stream",
     "text": [
      "21\n"
     ]
    }
   ],
   "source": [
    "def sum_all_values(*args):\n",
    "\ttotal = 0\n",
    "\tfor num in args:\n",
    "\t\ttotal += num\n",
    "\tprint(total)\n",
    "\n",
    "nums = [1,2,3,4,5,6]\n",
    "sum_all_values(*nums)"
   ]
  },
  {
   "cell_type": "markdown",
   "metadata": {},
   "source": [
    "### Dictionary unpacking"
   ]
  },
  {
   "cell_type": "markdown",
   "metadata": {},
   "source": [
    "names = {\"first\": \"Colt\", \"second\": \"Rusty\"} -> this dictionary has to be unpacked and as a keywords argument"
   ]
  },
  {
   "cell_type": "code",
   "execution_count": 18,
   "metadata": {},
   "outputs": [
    {
     "name": "stdout",
     "output_type": "stream",
     "text": [
      "Colt says hello to Rusty\n"
     ]
    }
   ],
   "source": [
    "def display_names(first, second):\n",
    "    print(f\"{first} says hello to {second}\")\n",
    "\n",
    "names = {\"first\": \"Colt\", \"second\": \"Rusty\"}\n",
    "display_names(**names)  # yup!"
   ]
  },
  {
   "cell_type": "markdown",
   "metadata": {},
   "source": []
  }
 ],
 "metadata": {
  "kernelspec": {
   "display_name": "base",
   "language": "python",
   "name": "python3"
  },
  "language_info": {
   "codemirror_mode": {
    "name": "ipython",
    "version": 3
   },
   "file_extension": ".py",
   "mimetype": "text/x-python",
   "name": "python",
   "nbconvert_exporter": "python",
   "pygments_lexer": "ipython3",
   "version": "3.11.7"
  }
 },
 "nbformat": 4,
 "nbformat_minor": 2
}
